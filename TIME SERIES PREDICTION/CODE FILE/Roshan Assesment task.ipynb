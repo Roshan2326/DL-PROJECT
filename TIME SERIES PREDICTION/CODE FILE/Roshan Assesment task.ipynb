{
 "cells": [
  {
   "cell_type": "code",
   "execution_count": 113,
   "id": "10cd6e98-bb56-4294-83ae-5c8bd7b7ac07",
   "metadata": {},
   "outputs": [],
   "source": [
    "import pandas as pd\n",
    "import numpy as np\n",
    "import matplotlib.pyplot as plt\n",
    "from sklearn.preprocessing import MinMaxScaler\n",
    "from sklearn.metrics import mean_squared_error, mean_absolute_error, r2_score\n",
    "import tensorflow as tf\n",
    "from tensorflow.keras.models import Sequential\n",
    "from tensorflow.keras.layers import SimpleRNN, LSTM, GRU, Dense"
   ]
  },
  {
   "cell_type": "code",
   "execution_count": 114,
   "id": "517ba05f-186b-4c49-916f-a49ac59fc132",
   "metadata": {},
   "outputs": [],
   "source": [
    "df=pd.read_csv(r\"C:\\Users\\rocky\\Desktop\\retail_sales.csv\")"
   ]
  },
  {
   "cell_type": "code",
   "execution_count": 115,
   "id": "68c4e74c-da48-4fdb-b6e3-9955cc938063",
   "metadata": {},
   "outputs": [
    {
     "data": {
      "text/html": [
       "<div>\n",
       "<style scoped>\n",
       "    .dataframe tbody tr th:only-of-type {\n",
       "        vertical-align: middle;\n",
       "    }\n",
       "\n",
       "    .dataframe tbody tr th {\n",
       "        vertical-align: top;\n",
       "    }\n",
       "\n",
       "    .dataframe thead th {\n",
       "        text-align: right;\n",
       "    }\n",
       "</style>\n",
       "<table border=\"1\" class=\"dataframe\">\n",
       "  <thead>\n",
       "    <tr style=\"text-align: right;\">\n",
       "      <th></th>\n",
       "      <th>Date</th>\n",
       "      <th>Sales</th>\n",
       "    </tr>\n",
       "  </thead>\n",
       "  <tbody>\n",
       "    <tr>\n",
       "      <th>0</th>\n",
       "      <td>1/1/15 0:00</td>\n",
       "      <td>54.048619</td>\n",
       "    </tr>\n",
       "    <tr>\n",
       "      <th>1</th>\n",
       "      <td>1/1/15 1:00</td>\n",
       "      <td>50.161596</td>\n",
       "    </tr>\n",
       "    <tr>\n",
       "      <th>2</th>\n",
       "      <td>1/1/15 2:00</td>\n",
       "      <td>55.954939</td>\n",
       "    </tr>\n",
       "    <tr>\n",
       "      <th>3</th>\n",
       "      <td>1/1/15 3:00</td>\n",
       "      <td>56.553261</td>\n",
       "    </tr>\n",
       "    <tr>\n",
       "      <th>4</th>\n",
       "      <td>1/1/15 4:00</td>\n",
       "      <td>60.487874</td>\n",
       "    </tr>\n",
       "    <tr>\n",
       "      <th>...</th>\n",
       "      <td>...</td>\n",
       "      <td>...</td>\n",
       "    </tr>\n",
       "    <tr>\n",
       "      <th>52580</th>\n",
       "      <td>30/12/20 20:00</td>\n",
       "      <td>140.946779</td>\n",
       "    </tr>\n",
       "    <tr>\n",
       "      <th>52581</th>\n",
       "      <td>30/12/20 21:00</td>\n",
       "      <td>145.561324</td>\n",
       "    </tr>\n",
       "    <tr>\n",
       "      <th>52582</th>\n",
       "      <td>30/12/20 22:00</td>\n",
       "      <td>144.484071</td>\n",
       "    </tr>\n",
       "    <tr>\n",
       "      <th>52583</th>\n",
       "      <td>30/12/20 23:00</td>\n",
       "      <td>147.890291</td>\n",
       "    </tr>\n",
       "    <tr>\n",
       "      <th>52584</th>\n",
       "      <td>31/12/20 0:00</td>\n",
       "      <td>150.223487</td>\n",
       "    </tr>\n",
       "  </tbody>\n",
       "</table>\n",
       "<p>52585 rows × 2 columns</p>\n",
       "</div>"
      ],
      "text/plain": [
       "                 Date       Sales\n",
       "0         1/1/15 0:00   54.048619\n",
       "1         1/1/15 1:00   50.161596\n",
       "2         1/1/15 2:00   55.954939\n",
       "3         1/1/15 3:00   56.553261\n",
       "4         1/1/15 4:00   60.487874\n",
       "...               ...         ...\n",
       "52580  30/12/20 20:00  140.946779\n",
       "52581  30/12/20 21:00  145.561324\n",
       "52582  30/12/20 22:00  144.484071\n",
       "52583  30/12/20 23:00  147.890291\n",
       "52584   31/12/20 0:00  150.223487\n",
       "\n",
       "[52585 rows x 2 columns]"
      ]
     },
     "execution_count": 115,
     "metadata": {},
     "output_type": "execute_result"
    }
   ],
   "source": [
    "df"
   ]
  },
  {
   "cell_type": "code",
   "execution_count": 117,
   "id": "ba0cc7bc-2b77-437e-890d-fb47aa9c5391",
   "metadata": {},
   "outputs": [
    {
     "name": "stderr",
     "output_type": "stream",
     "text": [
      "C:\\Users\\rocky\\AppData\\Local\\Temp\\ipykernel_8360\\983940289.py:1: UserWarning: Could not infer format, so each element will be parsed individually, falling back to `dateutil`. To ensure parsing is consistent and as-expected, please specify a format.\n",
      "  df['Date'] = pd.to_datetime(df['Date'])\n"
     ]
    }
   ],
   "source": [
    "df['Date'] = pd.to_datetime(df['Date'])\n",
    "df.set_index('Date', inplace=True)\n",
    "df['Sales'] = df['Sales'].interpolate()\n",
    "scaler = MinMaxScaler(feature_range=(0, 1))\n",
    "df['Sales'] = scaler.fit_transform(df[['Sales']])"
   ]
  },
  {
   "cell_type": "code",
   "execution_count": 118,
   "id": "a187d19e-4ee3-4e4e-baeb-c99e70fd466c",
   "metadata": {},
   "outputs": [],
   "source": [
    "def create_sequences(data, seq_length):\n",
    "    X, y = [], []\n",
    "    for i in range(len(data) - seq_length):\n",
    "        X.append(data[i:i+seq_length])\n",
    "        y.append(data[i+seq_length])\n",
    "    return np.array(X), np.array(y)"
   ]
  },
  {
   "cell_type": "code",
   "execution_count": 119,
   "id": "6d93c5bb-1b2a-4539-8362-97468d7a95e6",
   "metadata": {},
   "outputs": [],
   "source": [
    "seq_length = 12\n",
    "sales_data = df['Sales'].values\n",
    "X_rnn, y_rnn = create_sequences(sales_data, seq_length)\n",
    "X_lstm, y_lstm = create_sequences(sales_data, seq_length)\n",
    "X_gru, y_gru = create_sequences(sales_data, seq_length)"
   ]
  },
  {
   "cell_type": "code",
   "execution_count": 120,
   "id": "b6ee045f-176e-42b6-8189-e4807785af69",
   "metadata": {},
   "outputs": [],
   "source": [
    "split = int(len(X_rnn) * 0.8)\n",
    "X_train_rnn, X_test_rnn = X_rnn[:split], X_rnn[split:]\n",
    "y_train_rnn, y_test_rnn = y_rnn[:split], y_rnn[split:]"
   ]
  },
  {
   "cell_type": "code",
   "execution_count": 121,
   "id": "29b66262-2508-4603-9226-8260d471175e",
   "metadata": {},
   "outputs": [
    {
     "name": "stdout",
     "output_type": "stream",
     "text": [
      "Epoch 1/50\n"
     ]
    },
    {
     "name": "stderr",
     "output_type": "stream",
     "text": [
      "C:\\Users\\rocky\\anaconda3\\Lib\\site-packages\\keras\\src\\layers\\rnn\\rnn.py:204: UserWarning: Do not pass an `input_shape`/`input_dim` argument to a layer. When using Sequential models, prefer using an `Input(shape)` object as the first layer in the model instead.\n",
      "  super().__init__(**kwargs)\n"
     ]
    },
    {
     "name": "stdout",
     "output_type": "stream",
     "text": [
      "\u001b[1m1315/1315\u001b[0m \u001b[32m━━━━━━━━━━━━━━━━━━━━\u001b[0m\u001b[37m\u001b[0m \u001b[1m4s\u001b[0m 1ms/step - loss: 0.0113\n",
      "Epoch 2/50\n",
      "\u001b[1m1315/1315\u001b[0m \u001b[32m━━━━━━━━━━━━━━━━━━━━\u001b[0m\u001b[37m\u001b[0m \u001b[1m2s\u001b[0m 1ms/step - loss: 4.4392e-04\n",
      "Epoch 3/50\n",
      "\u001b[1m1315/1315\u001b[0m \u001b[32m━━━━━━━━━━━━━━━━━━━━\u001b[0m\u001b[37m\u001b[0m \u001b[1m2s\u001b[0m 1ms/step - loss: 4.3198e-04\n",
      "Epoch 4/50\n",
      "\u001b[1m1315/1315\u001b[0m \u001b[32m━━━━━━━━━━━━━━━━━━━━\u001b[0m\u001b[37m\u001b[0m \u001b[1m2s\u001b[0m 1ms/step - loss: 4.1839e-04\n",
      "Epoch 5/50\n",
      "\u001b[1m1315/1315\u001b[0m \u001b[32m━━━━━━━━━━━━━━━━━━━━\u001b[0m\u001b[37m\u001b[0m \u001b[1m2s\u001b[0m 1ms/step - loss: 4.1325e-04\n",
      "Epoch 6/50\n",
      "\u001b[1m1315/1315\u001b[0m \u001b[32m━━━━━━━━━━━━━━━━━━━━\u001b[0m\u001b[37m\u001b[0m \u001b[1m2s\u001b[0m 1ms/step - loss: 4.0773e-04\n",
      "Epoch 7/50\n",
      "\u001b[1m1315/1315\u001b[0m \u001b[32m━━━━━━━━━━━━━━━━━━━━\u001b[0m\u001b[37m\u001b[0m \u001b[1m2s\u001b[0m 1ms/step - loss: 3.9388e-04\n",
      "Epoch 8/50\n",
      "\u001b[1m1315/1315\u001b[0m \u001b[32m━━━━━━━━━━━━━━━━━━━━\u001b[0m\u001b[37m\u001b[0m \u001b[1m2s\u001b[0m 1ms/step - loss: 3.9767e-04\n",
      "Epoch 9/50\n",
      "\u001b[1m1315/1315\u001b[0m \u001b[32m━━━━━━━━━━━━━━━━━━━━\u001b[0m\u001b[37m\u001b[0m \u001b[1m2s\u001b[0m 1ms/step - loss: 4.1323e-04\n",
      "Epoch 10/50\n",
      "\u001b[1m1315/1315\u001b[0m \u001b[32m━━━━━━━━━━━━━━━━━━━━\u001b[0m\u001b[37m\u001b[0m \u001b[1m2s\u001b[0m 1ms/step - loss: 3.9665e-04\n",
      "Epoch 11/50\n",
      "\u001b[1m1315/1315\u001b[0m \u001b[32m━━━━━━━━━━━━━━━━━━━━\u001b[0m\u001b[37m\u001b[0m \u001b[1m2s\u001b[0m 1ms/step - loss: 4.0163e-04\n",
      "Epoch 12/50\n",
      "\u001b[1m1315/1315\u001b[0m \u001b[32m━━━━━━━━━━━━━━━━━━━━\u001b[0m\u001b[37m\u001b[0m \u001b[1m2s\u001b[0m 1ms/step - loss: 3.8981e-04\n",
      "Epoch 13/50\n",
      "\u001b[1m1315/1315\u001b[0m \u001b[32m━━━━━━━━━━━━━━━━━━━━\u001b[0m\u001b[37m\u001b[0m \u001b[1m2s\u001b[0m 1ms/step - loss: 3.8998e-04\n",
      "Epoch 14/50\n",
      "\u001b[1m1315/1315\u001b[0m \u001b[32m━━━━━━━━━━━━━━━━━━━━\u001b[0m\u001b[37m\u001b[0m \u001b[1m2s\u001b[0m 1ms/step - loss: 3.8951e-04\n",
      "Epoch 15/50\n",
      "\u001b[1m1315/1315\u001b[0m \u001b[32m━━━━━━━━━━━━━━━━━━━━\u001b[0m\u001b[37m\u001b[0m \u001b[1m2s\u001b[0m 1ms/step - loss: 3.8762e-04\n",
      "Epoch 16/50\n",
      "\u001b[1m1315/1315\u001b[0m \u001b[32m━━━━━━━━━━━━━━━━━━━━\u001b[0m\u001b[37m\u001b[0m \u001b[1m2s\u001b[0m 1ms/step - loss: 3.8536e-04\n",
      "Epoch 17/50\n",
      "\u001b[1m1315/1315\u001b[0m \u001b[32m━━━━━━━━━━━━━━━━━━━━\u001b[0m\u001b[37m\u001b[0m \u001b[1m2s\u001b[0m 1ms/step - loss: 3.8396e-04\n",
      "Epoch 18/50\n",
      "\u001b[1m1315/1315\u001b[0m \u001b[32m━━━━━━━━━━━━━━━━━━━━\u001b[0m\u001b[37m\u001b[0m \u001b[1m2s\u001b[0m 1ms/step - loss: 3.8848e-04\n",
      "Epoch 19/50\n",
      "\u001b[1m1315/1315\u001b[0m \u001b[32m━━━━━━━━━━━━━━━━━━━━\u001b[0m\u001b[37m\u001b[0m \u001b[1m2s\u001b[0m 1ms/step - loss: 3.8940e-04\n",
      "Epoch 20/50\n",
      "\u001b[1m1315/1315\u001b[0m \u001b[32m━━━━━━━━━━━━━━━━━━━━\u001b[0m\u001b[37m\u001b[0m \u001b[1m2s\u001b[0m 1ms/step - loss: 3.8167e-04\n",
      "Epoch 21/50\n",
      "\u001b[1m1315/1315\u001b[0m \u001b[32m━━━━━━━━━━━━━━━━━━━━\u001b[0m\u001b[37m\u001b[0m \u001b[1m2s\u001b[0m 1ms/step - loss: 3.7815e-04\n",
      "Epoch 22/50\n",
      "\u001b[1m1315/1315\u001b[0m \u001b[32m━━━━━━━━━━━━━━━━━━━━\u001b[0m\u001b[37m\u001b[0m \u001b[1m2s\u001b[0m 1ms/step - loss: 3.8229e-04\n",
      "Epoch 23/50\n",
      "\u001b[1m1315/1315\u001b[0m \u001b[32m━━━━━━━━━━━━━━━━━━━━\u001b[0m\u001b[37m\u001b[0m \u001b[1m2s\u001b[0m 1ms/step - loss: 3.8627e-04\n",
      "Epoch 24/50\n",
      "\u001b[1m1315/1315\u001b[0m \u001b[32m━━━━━━━━━━━━━━━━━━━━\u001b[0m\u001b[37m\u001b[0m \u001b[1m2s\u001b[0m 1ms/step - loss: 3.8767e-04\n",
      "Epoch 25/50\n",
      "\u001b[1m1315/1315\u001b[0m \u001b[32m━━━━━━━━━━━━━━━━━━━━\u001b[0m\u001b[37m\u001b[0m \u001b[1m2s\u001b[0m 1ms/step - loss: 3.7990e-04\n",
      "Epoch 26/50\n",
      "\u001b[1m1315/1315\u001b[0m \u001b[32m━━━━━━━━━━━━━━━━━━━━\u001b[0m\u001b[37m\u001b[0m \u001b[1m2s\u001b[0m 1ms/step - loss: 3.7679e-04\n",
      "Epoch 27/50\n",
      "\u001b[1m1315/1315\u001b[0m \u001b[32m━━━━━━━━━━━━━━━━━━━━\u001b[0m\u001b[37m\u001b[0m \u001b[1m2s\u001b[0m 1ms/step - loss: 3.7937e-04\n",
      "Epoch 28/50\n",
      "\u001b[1m1315/1315\u001b[0m \u001b[32m━━━━━━━━━━━━━━━━━━━━\u001b[0m\u001b[37m\u001b[0m \u001b[1m2s\u001b[0m 1ms/step - loss: 3.7527e-04\n",
      "Epoch 29/50\n",
      "\u001b[1m1315/1315\u001b[0m \u001b[32m━━━━━━━━━━━━━━━━━━━━\u001b[0m\u001b[37m\u001b[0m \u001b[1m2s\u001b[0m 1ms/step - loss: 3.7834e-04\n",
      "Epoch 30/50\n",
      "\u001b[1m1315/1315\u001b[0m \u001b[32m━━━━━━━━━━━━━━━━━━━━\u001b[0m\u001b[37m\u001b[0m \u001b[1m2s\u001b[0m 1ms/step - loss: 3.7428e-04\n",
      "Epoch 31/50\n",
      "\u001b[1m1315/1315\u001b[0m \u001b[32m━━━━━━━━━━━━━━━━━━━━\u001b[0m\u001b[37m\u001b[0m \u001b[1m2s\u001b[0m 1ms/step - loss: 3.7169e-04\n",
      "Epoch 32/50\n",
      "\u001b[1m1315/1315\u001b[0m \u001b[32m━━━━━━━━━━━━━━━━━━━━\u001b[0m\u001b[37m\u001b[0m \u001b[1m2s\u001b[0m 1ms/step - loss: 3.7119e-04\n",
      "Epoch 33/50\n",
      "\u001b[1m1315/1315\u001b[0m \u001b[32m━━━━━━━━━━━━━━━━━━━━\u001b[0m\u001b[37m\u001b[0m \u001b[1m2s\u001b[0m 1ms/step - loss: 3.8057e-04\n",
      "Epoch 34/50\n",
      "\u001b[1m1315/1315\u001b[0m \u001b[32m━━━━━━━━━━━━━━━━━━━━\u001b[0m\u001b[37m\u001b[0m \u001b[1m2s\u001b[0m 1ms/step - loss: 3.6512e-04\n",
      "Epoch 35/50\n",
      "\u001b[1m1315/1315\u001b[0m \u001b[32m━━━━━━━━━━━━━━━━━━━━\u001b[0m\u001b[37m\u001b[0m \u001b[1m2s\u001b[0m 1ms/step - loss: 3.7555e-04\n",
      "Epoch 36/50\n",
      "\u001b[1m1315/1315\u001b[0m \u001b[32m━━━━━━━━━━━━━━━━━━━━\u001b[0m\u001b[37m\u001b[0m \u001b[1m2s\u001b[0m 1ms/step - loss: 3.7266e-04\n",
      "Epoch 37/50\n",
      "\u001b[1m1315/1315\u001b[0m \u001b[32m━━━━━━━━━━━━━━━━━━━━\u001b[0m\u001b[37m\u001b[0m \u001b[1m2s\u001b[0m 1ms/step - loss: 3.7476e-04\n",
      "Epoch 38/50\n",
      "\u001b[1m1315/1315\u001b[0m \u001b[32m━━━━━━━━━━━━━━━━━━━━\u001b[0m\u001b[37m\u001b[0m \u001b[1m2s\u001b[0m 1ms/step - loss: 3.6918e-04\n",
      "Epoch 39/50\n",
      "\u001b[1m1315/1315\u001b[0m \u001b[32m━━━━━━━━━━━━━━━━━━━━\u001b[0m\u001b[37m\u001b[0m \u001b[1m2s\u001b[0m 1ms/step - loss: 3.6490e-04\n",
      "Epoch 40/50\n",
      "\u001b[1m1315/1315\u001b[0m \u001b[32m━━━━━━━━━━━━━━━━━━━━\u001b[0m\u001b[37m\u001b[0m \u001b[1m2s\u001b[0m 1ms/step - loss: 3.7239e-04\n",
      "Epoch 41/50\n",
      "\u001b[1m1315/1315\u001b[0m \u001b[32m━━━━━━━━━━━━━━━━━━━━\u001b[0m\u001b[37m\u001b[0m \u001b[1m2s\u001b[0m 1ms/step - loss: 3.7030e-04\n",
      "Epoch 42/50\n",
      "\u001b[1m1315/1315\u001b[0m \u001b[32m━━━━━━━━━━━━━━━━━━━━\u001b[0m\u001b[37m\u001b[0m \u001b[1m2s\u001b[0m 1ms/step - loss: 3.6525e-04\n",
      "Epoch 43/50\n",
      "\u001b[1m1315/1315\u001b[0m \u001b[32m━━━━━━━━━━━━━━━━━━━━\u001b[0m\u001b[37m\u001b[0m \u001b[1m2s\u001b[0m 1ms/step - loss: 3.7249e-04\n",
      "Epoch 44/50\n",
      "\u001b[1m1315/1315\u001b[0m \u001b[32m━━━━━━━━━━━━━━━━━━━━\u001b[0m\u001b[37m\u001b[0m \u001b[1m2s\u001b[0m 1ms/step - loss: 3.6984e-04\n",
      "Epoch 45/50\n",
      "\u001b[1m1315/1315\u001b[0m \u001b[32m━━━━━━━━━━━━━━━━━━━━\u001b[0m\u001b[37m\u001b[0m \u001b[1m2s\u001b[0m 1ms/step - loss: 3.6709e-04\n",
      "Epoch 46/50\n",
      "\u001b[1m1315/1315\u001b[0m \u001b[32m━━━━━━━━━━━━━━━━━━━━\u001b[0m\u001b[37m\u001b[0m \u001b[1m2s\u001b[0m 1ms/step - loss: 3.6230e-04\n",
      "Epoch 47/50\n",
      "\u001b[1m1315/1315\u001b[0m \u001b[32m━━━━━━━━━━━━━━━━━━━━\u001b[0m\u001b[37m\u001b[0m \u001b[1m2s\u001b[0m 1ms/step - loss: 3.6801e-04\n",
      "Epoch 48/50\n",
      "\u001b[1m1315/1315\u001b[0m \u001b[32m━━━━━━━━━━━━━━━━━━━━\u001b[0m\u001b[37m\u001b[0m \u001b[1m2s\u001b[0m 1ms/step - loss: 3.6883e-04\n",
      "Epoch 49/50\n",
      "\u001b[1m1315/1315\u001b[0m \u001b[32m━━━━━━━━━━━━━━━━━━━━\u001b[0m\u001b[37m\u001b[0m \u001b[1m2s\u001b[0m 1ms/step - loss: 3.6014e-04\n",
      "Epoch 50/50\n",
      "\u001b[1m1315/1315\u001b[0m \u001b[32m━━━━━━━━━━━━━━━━━━━━\u001b[0m\u001b[37m\u001b[0m \u001b[1m2s\u001b[0m 1ms/step - loss: 3.6519e-04\n"
     ]
    },
    {
     "data": {
      "text/plain": [
       "<keras.src.callbacks.history.History at 0x24ea8f10290>"
      ]
     },
     "execution_count": 121,
     "metadata": {},
     "output_type": "execute_result"
    }
   ],
   "source": [
    "rnn_model = Sequential([\n",
    "    SimpleRNN(50, activation='relu', input_shape=(seq_length, 1)),\n",
    "    Dense(1)\n",
    "])\n",
    "rnn_model.compile(optimizer='adam', loss='mse')\n",
    "rnn_model.fit(X_train_rnn, y_train_rnn, epochs=50, batch_size=32, verbose=1)"
   ]
  },
  {
   "cell_type": "code",
   "execution_count": 122,
   "id": "4e730452-64f3-49e9-8e79-64ee7aa412f5",
   "metadata": {},
   "outputs": [
    {
     "name": "stdout",
     "output_type": "stream",
     "text": [
      "\u001b[1m1315/1315\u001b[0m \u001b[32m━━━━━━━━━━━━━━━━━━━━\u001b[0m\u001b[37m\u001b[0m \u001b[1m1s\u001b[0m 943us/step\n",
      "\u001b[1m329/329\u001b[0m \u001b[32m━━━━━━━━━━━━━━━━━━━━\u001b[0m\u001b[37m\u001b[0m \u001b[1m0s\u001b[0m 963us/step\n"
     ]
    }
   ],
   "source": [
    "train_predict_rnn = rnn_model.predict(X_train_rnn)\n",
    "test_predict_rnn = rnn_model.predict(X_test_rnn)"
   ]
  },
  {
   "cell_type": "code",
   "execution_count": 123,
   "id": "b4c42a20-72b6-47ea-8df1-514e8627d939",
   "metadata": {},
   "outputs": [],
   "source": [
    "split = int(len(X_lstm) * 0.8)\n",
    "X_train_lstm, X_test_lstm = X_lstm[:split], X_lstm[split:]\n",
    "y_train_lstm, y_test_lstm = y_lstm[:split], y_lstm[split:]"
   ]
  },
  {
   "cell_type": "code",
   "execution_count": 124,
   "id": "69eb8c94-bcc1-4b02-9a5a-2c42a8337f8d",
   "metadata": {},
   "outputs": [
    {
     "name": "stdout",
     "output_type": "stream",
     "text": [
      "Epoch 1/50\n",
      "\u001b[1m1315/1315\u001b[0m \u001b[32m━━━━━━━━━━━━━━━━━━━━\u001b[0m\u001b[37m\u001b[0m \u001b[1m6s\u001b[0m 3ms/step - loss: 0.0122\n",
      "Epoch 2/50\n",
      "\u001b[1m1315/1315\u001b[0m \u001b[32m━━━━━━━━━━━━━━━━━━━━\u001b[0m\u001b[37m\u001b[0m \u001b[1m4s\u001b[0m 3ms/step - loss: 5.1973e-04\n",
      "Epoch 3/50\n",
      "\u001b[1m1315/1315\u001b[0m \u001b[32m━━━━━━━━━━━━━━━━━━━━\u001b[0m\u001b[37m\u001b[0m \u001b[1m3s\u001b[0m 2ms/step - loss: 4.7709e-04\n",
      "Epoch 4/50\n",
      "\u001b[1m1315/1315\u001b[0m \u001b[32m━━━━━━━━━━━━━━━━━━━━\u001b[0m\u001b[37m\u001b[0m \u001b[1m3s\u001b[0m 2ms/step - loss: 4.6191e-04\n",
      "Epoch 5/50\n",
      "\u001b[1m1315/1315\u001b[0m \u001b[32m━━━━━━━━━━━━━━━━━━━━\u001b[0m\u001b[37m\u001b[0m \u001b[1m3s\u001b[0m 2ms/step - loss: 4.4920e-04\n",
      "Epoch 6/50\n",
      "\u001b[1m1315/1315\u001b[0m \u001b[32m━━━━━━━━━━━━━━━━━━━━\u001b[0m\u001b[37m\u001b[0m \u001b[1m3s\u001b[0m 3ms/step - loss: 4.4580e-04\n",
      "Epoch 7/50\n",
      "\u001b[1m1315/1315\u001b[0m \u001b[32m━━━━━━━━━━━━━━━━━━━━\u001b[0m\u001b[37m\u001b[0m \u001b[1m3s\u001b[0m 3ms/step - loss: 4.4079e-04\n",
      "Epoch 8/50\n",
      "\u001b[1m1315/1315\u001b[0m \u001b[32m━━━━━━━━━━━━━━━━━━━━\u001b[0m\u001b[37m\u001b[0m \u001b[1m3s\u001b[0m 3ms/step - loss: 4.3424e-04\n",
      "Epoch 9/50\n",
      "\u001b[1m1315/1315\u001b[0m \u001b[32m━━━━━━━━━━━━━━━━━━━━\u001b[0m\u001b[37m\u001b[0m \u001b[1m3s\u001b[0m 2ms/step - loss: 4.3804e-04\n",
      "Epoch 10/50\n",
      "\u001b[1m1315/1315\u001b[0m \u001b[32m━━━━━━━━━━━━━━━━━━━━\u001b[0m\u001b[37m\u001b[0m \u001b[1m4s\u001b[0m 3ms/step - loss: 4.1865e-04\n",
      "Epoch 11/50\n",
      "\u001b[1m1315/1315\u001b[0m \u001b[32m━━━━━━━━━━━━━━━━━━━━\u001b[0m\u001b[37m\u001b[0m \u001b[1m3s\u001b[0m 3ms/step - loss: 4.1568e-04\n",
      "Epoch 12/50\n",
      "\u001b[1m1315/1315\u001b[0m \u001b[32m━━━━━━━━━━━━━━━━━━━━\u001b[0m\u001b[37m\u001b[0m \u001b[1m3s\u001b[0m 2ms/step - loss: 4.0636e-04\n",
      "Epoch 13/50\n",
      "\u001b[1m1315/1315\u001b[0m \u001b[32m━━━━━━━━━━━━━━━━━━━━\u001b[0m\u001b[37m\u001b[0m \u001b[1m3s\u001b[0m 3ms/step - loss: 3.9827e-04\n",
      "Epoch 14/50\n",
      "\u001b[1m1315/1315\u001b[0m \u001b[32m━━━━━━━━━━━━━━━━━━━━\u001b[0m\u001b[37m\u001b[0m \u001b[1m3s\u001b[0m 2ms/step - loss: 3.9487e-04\n",
      "Epoch 15/50\n",
      "\u001b[1m1315/1315\u001b[0m \u001b[32m━━━━━━━━━━━━━━━━━━━━\u001b[0m\u001b[37m\u001b[0m \u001b[1m3s\u001b[0m 3ms/step - loss: 3.9240e-04\n",
      "Epoch 16/50\n",
      "\u001b[1m1315/1315\u001b[0m \u001b[32m━━━━━━━━━━━━━━━━━━━━\u001b[0m\u001b[37m\u001b[0m \u001b[1m3s\u001b[0m 2ms/step - loss: 3.9449e-04\n",
      "Epoch 17/50\n",
      "\u001b[1m1315/1315\u001b[0m \u001b[32m━━━━━━━━━━━━━━━━━━━━\u001b[0m\u001b[37m\u001b[0m \u001b[1m3s\u001b[0m 3ms/step - loss: 3.8427e-04\n",
      "Epoch 18/50\n",
      "\u001b[1m1315/1315\u001b[0m \u001b[32m━━━━━━━━━━━━━━━━━━━━\u001b[0m\u001b[37m\u001b[0m \u001b[1m3s\u001b[0m 2ms/step - loss: 3.9038e-04\n",
      "Epoch 19/50\n",
      "\u001b[1m1315/1315\u001b[0m \u001b[32m━━━━━━━━━━━━━━━━━━━━\u001b[0m\u001b[37m\u001b[0m \u001b[1m3s\u001b[0m 3ms/step - loss: 3.7720e-04\n",
      "Epoch 20/50\n",
      "\u001b[1m1315/1315\u001b[0m \u001b[32m━━━━━━━━━━━━━━━━━━━━\u001b[0m\u001b[37m\u001b[0m \u001b[1m4s\u001b[0m 3ms/step - loss: 3.7561e-04\n",
      "Epoch 21/50\n",
      "\u001b[1m1315/1315\u001b[0m \u001b[32m━━━━━━━━━━━━━━━━━━━━\u001b[0m\u001b[37m\u001b[0m \u001b[1m4s\u001b[0m 3ms/step - loss: 3.7315e-04\n",
      "Epoch 22/50\n",
      "\u001b[1m1315/1315\u001b[0m \u001b[32m━━━━━━━━━━━━━━━━━━━━\u001b[0m\u001b[37m\u001b[0m \u001b[1m6s\u001b[0m 4ms/step - loss: 3.7676e-04\n",
      "Epoch 23/50\n",
      "\u001b[1m1315/1315\u001b[0m \u001b[32m━━━━━━━━━━━━━━━━━━━━\u001b[0m\u001b[37m\u001b[0m \u001b[1m6s\u001b[0m 4ms/step - loss: 3.7994e-04\n",
      "Epoch 24/50\n",
      "\u001b[1m1315/1315\u001b[0m \u001b[32m━━━━━━━━━━━━━━━━━━━━\u001b[0m\u001b[37m\u001b[0m \u001b[1m6s\u001b[0m 4ms/step - loss: 3.7225e-04\n",
      "Epoch 25/50\n",
      "\u001b[1m1315/1315\u001b[0m \u001b[32m━━━━━━━━━━━━━━━━━━━━\u001b[0m\u001b[37m\u001b[0m \u001b[1m4s\u001b[0m 3ms/step - loss: 3.7518e-04\n",
      "Epoch 26/50\n",
      "\u001b[1m1315/1315\u001b[0m \u001b[32m━━━━━━━━━━━━━━━━━━━━\u001b[0m\u001b[37m\u001b[0m \u001b[1m3s\u001b[0m 2ms/step - loss: 3.6879e-04\n",
      "Epoch 27/50\n",
      "\u001b[1m1315/1315\u001b[0m \u001b[32m━━━━━━━━━━━━━━━━━━━━\u001b[0m\u001b[37m\u001b[0m \u001b[1m3s\u001b[0m 2ms/step - loss: 3.7529e-04\n",
      "Epoch 28/50\n",
      "\u001b[1m1315/1315\u001b[0m \u001b[32m━━━━━━━━━━━━━━━━━━━━\u001b[0m\u001b[37m\u001b[0m \u001b[1m3s\u001b[0m 2ms/step - loss: 3.6657e-04\n",
      "Epoch 29/50\n",
      "\u001b[1m1315/1315\u001b[0m \u001b[32m━━━━━━━━━━━━━━━━━━━━\u001b[0m\u001b[37m\u001b[0m \u001b[1m3s\u001b[0m 2ms/step - loss: 3.6779e-04\n",
      "Epoch 30/50\n",
      "\u001b[1m1315/1315\u001b[0m \u001b[32m━━━━━━━━━━━━━━━━━━━━\u001b[0m\u001b[37m\u001b[0m \u001b[1m3s\u001b[0m 2ms/step - loss: 3.6630e-04\n",
      "Epoch 31/50\n",
      "\u001b[1m1315/1315\u001b[0m \u001b[32m━━━━━━━━━━━━━━━━━━━━\u001b[0m\u001b[37m\u001b[0m \u001b[1m3s\u001b[0m 2ms/step - loss: 3.5687e-04\n",
      "Epoch 32/50\n",
      "\u001b[1m1315/1315\u001b[0m \u001b[32m━━━━━━━━━━━━━━━━━━━━\u001b[0m\u001b[37m\u001b[0m \u001b[1m3s\u001b[0m 2ms/step - loss: 3.6883e-04\n",
      "Epoch 33/50\n",
      "\u001b[1m1315/1315\u001b[0m \u001b[32m━━━━━━━━━━━━━━━━━━━━\u001b[0m\u001b[37m\u001b[0m \u001b[1m3s\u001b[0m 2ms/step - loss: 3.6034e-04\n",
      "Epoch 34/50\n",
      "\u001b[1m1315/1315\u001b[0m \u001b[32m━━━━━━━━━━━━━━━━━━━━\u001b[0m\u001b[37m\u001b[0m \u001b[1m3s\u001b[0m 2ms/step - loss: 3.5969e-04\n",
      "Epoch 35/50\n",
      "\u001b[1m1315/1315\u001b[0m \u001b[32m━━━━━━━━━━━━━━━━━━━━\u001b[0m\u001b[37m\u001b[0m \u001b[1m3s\u001b[0m 2ms/step - loss: 3.6405e-04\n",
      "Epoch 36/50\n",
      "\u001b[1m1315/1315\u001b[0m \u001b[32m━━━━━━━━━━━━━━━━━━━━\u001b[0m\u001b[37m\u001b[0m \u001b[1m3s\u001b[0m 2ms/step - loss: 3.6676e-04\n",
      "Epoch 37/50\n",
      "\u001b[1m1315/1315\u001b[0m \u001b[32m━━━━━━━━━━━━━━━━━━━━\u001b[0m\u001b[37m\u001b[0m \u001b[1m3s\u001b[0m 2ms/step - loss: 3.5970e-04\n",
      "Epoch 38/50\n",
      "\u001b[1m1315/1315\u001b[0m \u001b[32m━━━━━━━━━━━━━━━━━━━━\u001b[0m\u001b[37m\u001b[0m \u001b[1m3s\u001b[0m 2ms/step - loss: 3.5503e-04\n",
      "Epoch 39/50\n",
      "\u001b[1m1315/1315\u001b[0m \u001b[32m━━━━━━━━━━━━━━━━━━━━\u001b[0m\u001b[37m\u001b[0m \u001b[1m3s\u001b[0m 2ms/step - loss: 3.6350e-04\n",
      "Epoch 40/50\n",
      "\u001b[1m1315/1315\u001b[0m \u001b[32m━━━━━━━━━━━━━━━━━━━━\u001b[0m\u001b[37m\u001b[0m \u001b[1m3s\u001b[0m 2ms/step - loss: 3.6000e-04\n",
      "Epoch 41/50\n",
      "\u001b[1m1315/1315\u001b[0m \u001b[32m━━━━━━━━━━━━━━━━━━━━\u001b[0m\u001b[37m\u001b[0m \u001b[1m3s\u001b[0m 2ms/step - loss: 3.6149e-04\n",
      "Epoch 42/50\n",
      "\u001b[1m1315/1315\u001b[0m \u001b[32m━━━━━━━━━━━━━━━━━━━━\u001b[0m\u001b[37m\u001b[0m \u001b[1m3s\u001b[0m 2ms/step - loss: 3.6071e-04\n",
      "Epoch 43/50\n",
      "\u001b[1m1315/1315\u001b[0m \u001b[32m━━━━━━━━━━━━━━━━━━━━\u001b[0m\u001b[37m\u001b[0m \u001b[1m3s\u001b[0m 2ms/step - loss: 3.5918e-04\n",
      "Epoch 44/50\n",
      "\u001b[1m1315/1315\u001b[0m \u001b[32m━━━━━━━━━━━━━━━━━━━━\u001b[0m\u001b[37m\u001b[0m \u001b[1m3s\u001b[0m 2ms/step - loss: 3.5583e-04\n",
      "Epoch 45/50\n",
      "\u001b[1m1315/1315\u001b[0m \u001b[32m━━━━━━━━━━━━━━━━━━━━\u001b[0m\u001b[37m\u001b[0m \u001b[1m3s\u001b[0m 2ms/step - loss: 3.5987e-04\n",
      "Epoch 46/50\n",
      "\u001b[1m1315/1315\u001b[0m \u001b[32m━━━━━━━━━━━━━━━━━━━━\u001b[0m\u001b[37m\u001b[0m \u001b[1m3s\u001b[0m 2ms/step - loss: 3.6196e-04\n",
      "Epoch 47/50\n",
      "\u001b[1m1315/1315\u001b[0m \u001b[32m━━━━━━━━━━━━━━━━━━━━\u001b[0m\u001b[37m\u001b[0m \u001b[1m3s\u001b[0m 2ms/step - loss: 3.5949e-04\n",
      "Epoch 48/50\n",
      "\u001b[1m1315/1315\u001b[0m \u001b[32m━━━━━━━━━━━━━━━━━━━━\u001b[0m\u001b[37m\u001b[0m \u001b[1m3s\u001b[0m 2ms/step - loss: 3.5672e-04\n",
      "Epoch 49/50\n",
      "\u001b[1m1315/1315\u001b[0m \u001b[32m━━━━━━━━━━━━━━━━━━━━\u001b[0m\u001b[37m\u001b[0m \u001b[1m3s\u001b[0m 2ms/step - loss: 3.5360e-04\n",
      "Epoch 50/50\n",
      "\u001b[1m1315/1315\u001b[0m \u001b[32m━━━━━━━━━━━━━━━━━━━━\u001b[0m\u001b[37m\u001b[0m \u001b[1m3s\u001b[0m 2ms/step - loss: 3.5627e-04\n"
     ]
    },
    {
     "data": {
      "text/plain": [
       "<keras.src.callbacks.history.History at 0x24eb26e8390>"
      ]
     },
     "execution_count": 124,
     "metadata": {},
     "output_type": "execute_result"
    }
   ],
   "source": [
    "lstm_model = Sequential([\n",
    "    LSTM(50, activation='relu', input_shape=(seq_length, 1)),\n",
    "    Dense(1)\n",
    "])\n",
    "lstm_model.compile(optimizer='adam', loss='mse')\n",
    "lstm_model.fit(X_train_lstm, y_train_lstm, epochs=50, batch_size=32, verbose=1)"
   ]
  },
  {
   "cell_type": "code",
   "execution_count": 125,
   "id": "c09f332e-df4e-44d6-a2b6-df1595348bd8",
   "metadata": {},
   "outputs": [
    {
     "name": "stdout",
     "output_type": "stream",
     "text": [
      "\u001b[1m1315/1315\u001b[0m \u001b[32m━━━━━━━━━━━━━━━━━━━━\u001b[0m\u001b[37m\u001b[0m \u001b[1m2s\u001b[0m 1ms/step\n",
      "\u001b[1m329/329\u001b[0m \u001b[32m━━━━━━━━━━━━━━━━━━━━\u001b[0m\u001b[37m\u001b[0m \u001b[1m0s\u001b[0m 1ms/step  \n"
     ]
    }
   ],
   "source": [
    "train_predict_lstm = lstm_model.predict(X_train_lstm)\n",
    "test_predict_lstm = lstm_model.predict(X_test_lstm)"
   ]
  },
  {
   "cell_type": "code",
   "execution_count": 126,
   "id": "0a31237c-0efb-4fb9-9d01-27385fa81afe",
   "metadata": {},
   "outputs": [],
   "source": [
    "split = int(len(X_gru) * 0.8)\n",
    "X_train_gru, X_test_gru = X_gru[:split], X_gru[split:]\n",
    "y_train_gru, y_test_gru = y_gru[:split], y_gru[split:]"
   ]
  },
  {
   "cell_type": "code",
   "execution_count": 127,
   "id": "483e1645-581f-4d95-a815-6bb667cb01ab",
   "metadata": {},
   "outputs": [
    {
     "name": "stdout",
     "output_type": "stream",
     "text": [
      "Epoch 1/50\n",
      "\u001b[1m1315/1315\u001b[0m \u001b[32m━━━━━━━━━━━━━━━━━━━━\u001b[0m\u001b[37m\u001b[0m \u001b[1m5s\u001b[0m 2ms/step - loss: 0.0065\n",
      "Epoch 2/50\n",
      "\u001b[1m1315/1315\u001b[0m \u001b[32m━━━━━━━━━━━━━━━━━━━━\u001b[0m\u001b[37m\u001b[0m \u001b[1m3s\u001b[0m 2ms/step - loss: 5.0117e-04\n",
      "Epoch 3/50\n",
      "\u001b[1m1315/1315\u001b[0m \u001b[32m━━━━━━━━━━━━━━━━━━━━\u001b[0m\u001b[37m\u001b[0m \u001b[1m3s\u001b[0m 2ms/step - loss: 4.6703e-04\n",
      "Epoch 4/50\n",
      "\u001b[1m1315/1315\u001b[0m \u001b[32m━━━━━━━━━━━━━━━━━━━━\u001b[0m\u001b[37m\u001b[0m \u001b[1m3s\u001b[0m 2ms/step - loss: 4.5323e-04\n",
      "Epoch 5/50\n",
      "\u001b[1m1315/1315\u001b[0m \u001b[32m━━━━━━━━━━━━━━━━━━━━\u001b[0m\u001b[37m\u001b[0m \u001b[1m3s\u001b[0m 2ms/step - loss: 4.5631e-04\n",
      "Epoch 6/50\n",
      "\u001b[1m1315/1315\u001b[0m \u001b[32m━━━━━━━━━━━━━━━━━━━━\u001b[0m\u001b[37m\u001b[0m \u001b[1m3s\u001b[0m 2ms/step - loss: 4.5417e-04\n",
      "Epoch 7/50\n",
      "\u001b[1m1315/1315\u001b[0m \u001b[32m━━━━━━━━━━━━━━━━━━━━\u001b[0m\u001b[37m\u001b[0m \u001b[1m3s\u001b[0m 2ms/step - loss: 4.4614e-04\n",
      "Epoch 8/50\n",
      "\u001b[1m1315/1315\u001b[0m \u001b[32m━━━━━━━━━━━━━━━━━━━━\u001b[0m\u001b[37m\u001b[0m \u001b[1m3s\u001b[0m 2ms/step - loss: 4.4521e-04\n",
      "Epoch 9/50\n",
      "\u001b[1m1315/1315\u001b[0m \u001b[32m━━━━━━━━━━━━━━━━━━━━\u001b[0m\u001b[37m\u001b[0m \u001b[1m3s\u001b[0m 2ms/step - loss: 4.5166e-04\n",
      "Epoch 10/50\n",
      "\u001b[1m1315/1315\u001b[0m \u001b[32m━━━━━━━━━━━━━━━━━━━━\u001b[0m\u001b[37m\u001b[0m \u001b[1m3s\u001b[0m 2ms/step - loss: 4.3273e-04\n",
      "Epoch 11/50\n",
      "\u001b[1m1315/1315\u001b[0m \u001b[32m━━━━━━━━━━━━━━━━━━━━\u001b[0m\u001b[37m\u001b[0m \u001b[1m3s\u001b[0m 2ms/step - loss: 4.3620e-04\n",
      "Epoch 12/50\n",
      "\u001b[1m1315/1315\u001b[0m \u001b[32m━━━━━━━━━━━━━━━━━━━━\u001b[0m\u001b[37m\u001b[0m \u001b[1m3s\u001b[0m 2ms/step - loss: 4.3009e-04\n",
      "Epoch 13/50\n",
      "\u001b[1m1315/1315\u001b[0m \u001b[32m━━━━━━━━━━━━━━━━━━━━\u001b[0m\u001b[37m\u001b[0m \u001b[1m3s\u001b[0m 2ms/step - loss: 4.3283e-04\n",
      "Epoch 14/50\n",
      "\u001b[1m1315/1315\u001b[0m \u001b[32m━━━━━━━━━━━━━━━━━━━━\u001b[0m\u001b[37m\u001b[0m \u001b[1m3s\u001b[0m 2ms/step - loss: 4.3344e-04\n",
      "Epoch 15/50\n",
      "\u001b[1m1315/1315\u001b[0m \u001b[32m━━━━━━━━━━━━━━━━━━━━\u001b[0m\u001b[37m\u001b[0m \u001b[1m3s\u001b[0m 2ms/step - loss: 4.2371e-04\n",
      "Epoch 16/50\n",
      "\u001b[1m1315/1315\u001b[0m \u001b[32m━━━━━━━━━━━━━━━━━━━━\u001b[0m\u001b[37m\u001b[0m \u001b[1m3s\u001b[0m 2ms/step - loss: 4.3085e-04\n",
      "Epoch 17/50\n",
      "\u001b[1m1315/1315\u001b[0m \u001b[32m━━━━━━━━━━━━━━━━━━━━\u001b[0m\u001b[37m\u001b[0m \u001b[1m3s\u001b[0m 2ms/step - loss: 4.2277e-04\n",
      "Epoch 18/50\n",
      "\u001b[1m1315/1315\u001b[0m \u001b[32m━━━━━━━━━━━━━━━━━━━━\u001b[0m\u001b[37m\u001b[0m \u001b[1m3s\u001b[0m 2ms/step - loss: 4.2078e-04\n",
      "Epoch 19/50\n",
      "\u001b[1m1315/1315\u001b[0m \u001b[32m━━━━━━━━━━━━━━━━━━━━\u001b[0m\u001b[37m\u001b[0m \u001b[1m3s\u001b[0m 2ms/step - loss: 4.1368e-04\n",
      "Epoch 20/50\n",
      "\u001b[1m1315/1315\u001b[0m \u001b[32m━━━━━━━━━━━━━━━━━━━━\u001b[0m\u001b[37m\u001b[0m \u001b[1m3s\u001b[0m 2ms/step - loss: 4.1181e-04\n",
      "Epoch 21/50\n",
      "\u001b[1m1315/1315\u001b[0m \u001b[32m━━━━━━━━━━━━━━━━━━━━\u001b[0m\u001b[37m\u001b[0m \u001b[1m3s\u001b[0m 2ms/step - loss: 4.0055e-04\n",
      "Epoch 22/50\n",
      "\u001b[1m1315/1315\u001b[0m \u001b[32m━━━━━━━━━━━━━━━━━━━━\u001b[0m\u001b[37m\u001b[0m \u001b[1m3s\u001b[0m 2ms/step - loss: 4.0119e-04\n",
      "Epoch 23/50\n",
      "\u001b[1m1315/1315\u001b[0m \u001b[32m━━━━━━━━━━━━━━━━━━━━\u001b[0m\u001b[37m\u001b[0m \u001b[1m3s\u001b[0m 2ms/step - loss: 3.9660e-04\n",
      "Epoch 24/50\n",
      "\u001b[1m1315/1315\u001b[0m \u001b[32m━━━━━━━━━━━━━━━━━━━━\u001b[0m\u001b[37m\u001b[0m \u001b[1m3s\u001b[0m 2ms/step - loss: 3.9426e-04\n",
      "Epoch 25/50\n",
      "\u001b[1m1315/1315\u001b[0m \u001b[32m━━━━━━━━━━━━━━━━━━━━\u001b[0m\u001b[37m\u001b[0m \u001b[1m3s\u001b[0m 2ms/step - loss: 3.8162e-04\n",
      "Epoch 26/50\n",
      "\u001b[1m1315/1315\u001b[0m \u001b[32m━━━━━━━━━━━━━━━━━━━━\u001b[0m\u001b[37m\u001b[0m \u001b[1m3s\u001b[0m 2ms/step - loss: 3.8399e-04\n",
      "Epoch 27/50\n",
      "\u001b[1m1315/1315\u001b[0m \u001b[32m━━━━━━━━━━━━━━━━━━━━\u001b[0m\u001b[37m\u001b[0m \u001b[1m3s\u001b[0m 2ms/step - loss: 3.8389e-04\n",
      "Epoch 28/50\n",
      "\u001b[1m1315/1315\u001b[0m \u001b[32m━━━━━━━━━━━━━━━━━━━━\u001b[0m\u001b[37m\u001b[0m \u001b[1m3s\u001b[0m 2ms/step - loss: 3.7330e-04\n",
      "Epoch 29/50\n",
      "\u001b[1m1315/1315\u001b[0m \u001b[32m━━━━━━━━━━━━━━━━━━━━\u001b[0m\u001b[37m\u001b[0m \u001b[1m3s\u001b[0m 2ms/step - loss: 3.7395e-04\n",
      "Epoch 30/50\n",
      "\u001b[1m1315/1315\u001b[0m \u001b[32m━━━━━━━━━━━━━━━━━━━━\u001b[0m\u001b[37m\u001b[0m \u001b[1m3s\u001b[0m 2ms/step - loss: 3.7576e-04\n",
      "Epoch 31/50\n",
      "\u001b[1m1315/1315\u001b[0m \u001b[32m━━━━━━━━━━━━━━━━━━━━\u001b[0m\u001b[37m\u001b[0m \u001b[1m3s\u001b[0m 2ms/step - loss: 3.7050e-04\n",
      "Epoch 32/50\n",
      "\u001b[1m1315/1315\u001b[0m \u001b[32m━━━━━━━━━━━━━━━━━━━━\u001b[0m\u001b[37m\u001b[0m \u001b[1m3s\u001b[0m 2ms/step - loss: 3.6699e-04\n",
      "Epoch 33/50\n",
      "\u001b[1m1315/1315\u001b[0m \u001b[32m━━━━━━━━━━━━━━━━━━━━\u001b[0m\u001b[37m\u001b[0m \u001b[1m3s\u001b[0m 2ms/step - loss: 3.6803e-04\n",
      "Epoch 34/50\n",
      "\u001b[1m1315/1315\u001b[0m \u001b[32m━━━━━━━━━━━━━━━━━━━━\u001b[0m\u001b[37m\u001b[0m \u001b[1m3s\u001b[0m 2ms/step - loss: 3.6747e-04\n",
      "Epoch 35/50\n",
      "\u001b[1m1315/1315\u001b[0m \u001b[32m━━━━━━━━━━━━━━━━━━━━\u001b[0m\u001b[37m\u001b[0m \u001b[1m3s\u001b[0m 2ms/step - loss: 3.6537e-04\n",
      "Epoch 36/50\n",
      "\u001b[1m1315/1315\u001b[0m \u001b[32m━━━━━━━━━━━━━━━━━━━━\u001b[0m\u001b[37m\u001b[0m \u001b[1m3s\u001b[0m 2ms/step - loss: 3.6768e-04\n",
      "Epoch 37/50\n",
      "\u001b[1m1315/1315\u001b[0m \u001b[32m━━━━━━━━━━━━━━━━━━━━\u001b[0m\u001b[37m\u001b[0m \u001b[1m3s\u001b[0m 2ms/step - loss: 3.5752e-04\n",
      "Epoch 38/50\n",
      "\u001b[1m1315/1315\u001b[0m \u001b[32m━━━━━━━━━━━━━━━━━━━━\u001b[0m\u001b[37m\u001b[0m \u001b[1m3s\u001b[0m 2ms/step - loss: 3.6362e-04\n",
      "Epoch 39/50\n",
      "\u001b[1m1315/1315\u001b[0m \u001b[32m━━━━━━━━━━━━━━━━━━━━\u001b[0m\u001b[37m\u001b[0m \u001b[1m3s\u001b[0m 2ms/step - loss: 3.5747e-04\n",
      "Epoch 40/50\n",
      "\u001b[1m1315/1315\u001b[0m \u001b[32m━━━━━━━━━━━━━━━━━━━━\u001b[0m\u001b[37m\u001b[0m \u001b[1m3s\u001b[0m 2ms/step - loss: 3.6398e-04\n",
      "Epoch 41/50\n",
      "\u001b[1m1315/1315\u001b[0m \u001b[32m━━━━━━━━━━━━━━━━━━━━\u001b[0m\u001b[37m\u001b[0m \u001b[1m3s\u001b[0m 2ms/step - loss: 3.6756e-04\n",
      "Epoch 42/50\n",
      "\u001b[1m1315/1315\u001b[0m \u001b[32m━━━━━━━━━━━━━━━━━━━━\u001b[0m\u001b[37m\u001b[0m \u001b[1m3s\u001b[0m 2ms/step - loss: 3.6267e-04\n",
      "Epoch 43/50\n",
      "\u001b[1m1315/1315\u001b[0m \u001b[32m━━━━━━━━━━━━━━━━━━━━\u001b[0m\u001b[37m\u001b[0m \u001b[1m3s\u001b[0m 2ms/step - loss: 3.6006e-04\n",
      "Epoch 44/50\n",
      "\u001b[1m1315/1315\u001b[0m \u001b[32m━━━━━━━━━━━━━━━━━━━━\u001b[0m\u001b[37m\u001b[0m \u001b[1m3s\u001b[0m 2ms/step - loss: 3.6290e-04\n",
      "Epoch 45/50\n",
      "\u001b[1m1315/1315\u001b[0m \u001b[32m━━━━━━━━━━━━━━━━━━━━\u001b[0m\u001b[37m\u001b[0m \u001b[1m3s\u001b[0m 2ms/step - loss: 3.5576e-04\n",
      "Epoch 46/50\n",
      "\u001b[1m1315/1315\u001b[0m \u001b[32m━━━━━━━━━━━━━━━━━━━━\u001b[0m\u001b[37m\u001b[0m \u001b[1m3s\u001b[0m 2ms/step - loss: 3.5511e-04\n",
      "Epoch 47/50\n",
      "\u001b[1m1315/1315\u001b[0m \u001b[32m━━━━━━━━━━━━━━━━━━━━\u001b[0m\u001b[37m\u001b[0m \u001b[1m3s\u001b[0m 2ms/step - loss: 3.6241e-04\n",
      "Epoch 48/50\n",
      "\u001b[1m1315/1315\u001b[0m \u001b[32m━━━━━━━━━━━━━━━━━━━━\u001b[0m\u001b[37m\u001b[0m \u001b[1m3s\u001b[0m 2ms/step - loss: 3.6380e-04\n",
      "Epoch 49/50\n",
      "\u001b[1m1315/1315\u001b[0m \u001b[32m━━━━━━━━━━━━━━━━━━━━\u001b[0m\u001b[37m\u001b[0m \u001b[1m3s\u001b[0m 2ms/step - loss: 3.5593e-04\n",
      "Epoch 50/50\n",
      "\u001b[1m1315/1315\u001b[0m \u001b[32m━━━━━━━━━━━━━━━━━━━━\u001b[0m\u001b[37m\u001b[0m \u001b[1m3s\u001b[0m 2ms/step - loss: 3.6268e-04\n"
     ]
    },
    {
     "data": {
      "text/plain": [
       "<keras.src.callbacks.history.History at 0x24ea8acc550>"
      ]
     },
     "execution_count": 127,
     "metadata": {},
     "output_type": "execute_result"
    }
   ],
   "source": [
    "gru_model = Sequential([\n",
    "    GRU(50, activation='relu', input_shape=(seq_length, 1)),\n",
    "    Dense(1)\n",
    "])\n",
    "gru_model.compile(optimizer='adam', loss='mse')\n",
    "gru_model.fit(X_train_gru, y_train_gru, epochs=50, batch_size=32, verbose=1)"
   ]
  },
  {
   "cell_type": "code",
   "execution_count": 128,
   "id": "f0ea06e9-e3ef-49c3-873f-781886cd5ae3",
   "metadata": {},
   "outputs": [
    {
     "name": "stdout",
     "output_type": "stream",
     "text": [
      "\u001b[1m1315/1315\u001b[0m \u001b[32m━━━━━━━━━━━━━━━━━━━━\u001b[0m\u001b[37m\u001b[0m \u001b[1m2s\u001b[0m 1ms/step\n",
      "\u001b[1m329/329\u001b[0m \u001b[32m━━━━━━━━━━━━━━━━━━━━\u001b[0m\u001b[37m\u001b[0m \u001b[1m0s\u001b[0m 1ms/step\n"
     ]
    }
   ],
   "source": [
    "train_predict_gru = gru_model.predict(X_train_gru)\n",
    "test_predict_gru = gru_model.predict(X_test_gru)"
   ]
  },
  {
   "cell_type": "code",
   "execution_count": 129,
   "id": "52a04c5f-f1a8-4670-93a1-c59e46c05081",
   "metadata": {},
   "outputs": [],
   "source": [
    "def inverse_transform_and_evaluate(y_train, train_predict, y_test, test_predict, scaler):\n",
    "    train_predict = scaler.inverse_transform(train_predict)\n",
    "    y_train = scaler.inverse_transform(y_train.reshape(-1, 1))\n",
    "    test_predict = scaler.inverse_transform(test_predict)\n",
    "    y_test = scaler.inverse_transform(y_test.reshape(-1, 1))\n",
    "\n",
    "    train_rmse = np.sqrt(mean_squared_error(y_train, train_predict))\n",
    "    test_rmse = np.sqrt(mean_squared_error(y_test, test_predict))\n",
    "    train_mae = mean_absolute_error(y_train, train_predict)\n",
    "    test_mae = mean_absolute_error(y_test, test_predict)\n",
    "    train_r2 = r2_score(y_train, train_predict)\n",
    "    test_r2 = r2_score(y_test, test_predict)\n",
    "\n",
    "    return train_rmse, test_rmse, train_mae, test_mae, train_r2, test_r2\n",
    "\n",
    "rnn_results = inverse_transform_and_evaluate(y_train_rnn, train_predict_rnn, y_test_rnn, test_predict_rnn, scaler)\n",
    "lstm_results = inverse_transform_and_evaluate(y_train_lstm, train_predict_lstm, y_test_lstm, test_predict_lstm, scaler)\n",
    "gru_results = inverse_transform_and_evaluate(y_train_gru, train_predict_gru, y_test_gru, test_predict_gru, scaler)\n"
   ]
  },
  {
   "cell_type": "code",
   "execution_count": 130,
   "id": "94a3042b-7168-4a11-9edc-7809badcf463",
   "metadata": {},
   "outputs": [
    {
     "name": "stdout",
     "output_type": "stream",
     "text": [
      "RNN Results:\n",
      "Train RMSE: 2.5822637274096905, Test RMSE: 2.66879269689017\n",
      "Train MAE: 2.0512421565500536, Test MAE: 2.121566387250171\n",
      "Train R²: 0.9888437980604556, Test R²: 0.9273731129443457\n",
      "\n",
      "LSTM Results:\n",
      "Train RMSE: 2.502879049443995, Test RMSE: 2.562566863617428\n",
      "Train MAE: 1.989125180114333, Test MAE: 2.031728370832135\n",
      "Train R²: 0.9895191886665344, Test R²: 0.9330395812783232\n",
      "\n",
      "GRU Results:\n",
      "Train RMSE: 2.522071612657283, Test RMSE: 2.642742162614998\n",
      "Train MAE: 2.0061718341658343, Test MAE: 2.1110869535033654\n",
      "Train R²: 0.9893578345837807, Test R²: 0.9287840395389333\n"
     ]
    }
   ],
   "source": [
    "print(\"RNN Results:\")\n",
    "print(f'Train RMSE: {rnn_results[0]}, Test RMSE: {rnn_results[1]}')\n",
    "print(f'Train MAE: {rnn_results[2]}, Test MAE: {rnn_results[3]}')\n",
    "print(f'Train R²: {rnn_results[4]}, Test R²: {rnn_results[5]}')\n",
    "print(\"\\nLSTM Results:\")\n",
    "print(f'Train RMSE: {lstm_results[0]}, Test RMSE: {lstm_results[1]}')\n",
    "print(f'Train MAE: {lstm_results[2]}, Test MAE: {lstm_results[3]}')\n",
    "print(f'Train R²: {lstm_results[4]}, Test R²: {lstm_results[5]}')\n",
    "print(\"\\nGRU Results:\")\n",
    "print(f'Train RMSE: {gru_results[0]}, Test RMSE: {gru_results[1]}')\n",
    "print(f'Train MAE: {gru_results[2]}, Test MAE: {gru_results[3]}')\n",
    "print(f'Train R²: {gru_results[4]}, Test R²: {gru_results[5]}')"
   ]
  },
  {
   "cell_type": "code",
   "execution_count": 134,
   "id": "5b26d096-a61f-42bc-a46a-326f2337316a",
   "metadata": {},
   "outputs": [
    {
     "data": {
      "image/png": "[encoded data removed]",
      "text/plain": [
       "<Figure size 1200x600 with 1 Axes>"
      ]
     },
     "metadata": {},
     "output_type": "display_data"
    }
   ],
   "source": [
    "plt.figure(figsize=(12, 6))\n",
    "plt.plot(df.index[seq_length:seq_length+len(train_predict_rnn)], train_predict_rnn, label='RNN Train Predict')\n",
    "plt.plot(df.index[seq_length+len(train_predict_rnn):], test_predict_rnn, label='RNN Test Predict')\n",
    "plt.plot(df.index[seq_length:seq_length+len(train_predict_lstm)], train_predict_lstm, label='LSTM Train Predict')\n",
    "plt.plot(df.index[seq_length+len(train_predict_lstm):], test_predict_lstm, label='LSTM Test Predict')\n",
    "plt.plot(df.index[seq_length:seq_length+len(train_predict_gru)], train_predict_gru, label='GRU Train Predict')\n",
    "plt.plot(df.index[seq_length+len(train_predict_gru):], test_predict_gru, label='GRU Test Predict')\n",
    "plt.plot(df.index[seq_length:], df['Sales'][seq_length:], label='Actual Sales')\n",
    "plt.title('Sales Prediction using RNN, LSTM, and GRU')\n",
    "plt.xlabel('Date')\n",
    "plt.ylabel('Sales')\n",
    "plt.legend()\n",
    "plt.show()"
   ]
  },
  {
   "cell_type": "code",
   "execution_count": 1,
   "id": "616b3c95-060a-40a1-b442-f936d997045d",
   "metadata": {},
   "outputs": [
    {
     "ename": "NameError",
     "evalue": "name 'model' is not defined",
     "output_type": "error",
     "traceback": [
      "\u001b[1;31m---------------------------------------------------------------------------\u001b[0m",
      "\u001b[1;31mNameError\u001b[0m                                 Traceback (most recent call last)",
      "Cell \u001b[1;32mIn[1], line 1\u001b[0m\n\u001b[1;32m----> 1\u001b[0m model\u001b[38;5;241m.\u001b[39msave()\n",
      "\u001b[1;31mNameError\u001b[0m: name 'model' is not defined"
     ]
    }
   ],
   "source": [
    "model.save()"
   ]
  },
  {
   "cell_type": "code",
   "execution_count": null,
   "id": "c7ba627c-6273-42a2-8869-b8cf892eaea2",
   "metadata": {},
   "outputs": [],
   "source": []
  }
 ],
 "metadata": {
  "kernelspec": {
   "display_name": "Python 3 (ipykernel)",
   "language": "python",
   "name": "python3"
  },
  "language_info": {
   "codemirror_mode": {
    "name": "ipython",
    "version": 3
   },
   "file_extension": ".py",
   "mimetype": "text/x-python",
   "name": "python",
   "nbconvert_exporter": "python",
   "pygments_lexer": "ipython3",
   "version": "3.11.7"
  }
 },
 "nbformat": 4,
 "nbformat_minor": 5
}
